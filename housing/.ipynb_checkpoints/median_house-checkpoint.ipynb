{
 "cells": [
  {
   "cell_type": "markdown",
   "metadata": {},
   "source": [
    "# Get Data"
   ]
  },
  {
   "cell_type": "code",
   "execution_count": null,
   "metadata": {},
   "outputs": [],
   "source": [
    "import os\n",
    "from sklearn.model_selection import train_test_split\n",
    "import pandas as pd\n",
    "import matplolib.pyplot as plt\n",
    "\n",
    "HOUSING_PAHT = \"data\"\n",
    "IMAGE_PATH = \"images\"\n",
    "\n",
    "def load_csv_data(housing_path=HOUSING_PATH):\n",
    "    csv_file = os.join(housing_path,\"housing.csv\")\n",
    "    return pd.read_csv(csv_file)\n",
    "\n",
    "def save_fig(fig_id, ext=\"png\", taight_layout=True, resolution=300):\n",
    "    path = os.join(IMAGE_PATH, fig_id+'.'+ext)\n",
    "    if taight_layout:\n",
    "        plt.taight_layout()\n",
    "    plt.savefig(path, format=ext, dpi=resolution)"
   ]
  }
 ],
 "metadata": {
  "kernelspec": {
   "display_name": "Python 3",
   "language": "python",
   "name": "python3"
  },
  "language_info": {
   "codemirror_mode": {
    "name": "ipython",
    "version": 3
   },
   "file_extension": ".py",
   "mimetype": "text/x-python",
   "name": "python",
   "nbconvert_exporter": "python",
   "pygments_lexer": "ipython3",
   "version": "3.7.5"
  }
 },
 "nbformat": 4,
 "nbformat_minor": 2
}
